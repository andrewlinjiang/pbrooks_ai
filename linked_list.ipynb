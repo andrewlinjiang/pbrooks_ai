{
 "cells": [
  {
   "cell_type": "markdown",
   "metadata": {
    "id": "xi0U5JX1E8lj"
   },
   "source": [
    "### Singly-linked list (SLL)\n",
    "\n",
    "Create an SLL class that will implement a singly-linked list to be used as a stack (last-in first-out).\n",
    "\n",
    "Use the Node class below as nodes carrying data in the SLL.\n",
    "\n",
    "Implement all of the methods that are awaiting your excellent code in the SLL note below.  Remove the Python \"pass\" command in each method, replacing with with your own code.\n",
    "\n"
   ]
  },
  {
   "cell_type": "code",
   "execution_count": 40,
   "metadata": {
    "id": "s_vYSBlAFj5s"
   },
   "outputs": [],
   "source": [
    "class Node:\n",
    "  \n",
    "    def __init__(self, data):\n",
    "        self.data = data\n",
    "        self.next = None\n",
    "        \n",
    "    def value(self):\n",
    "        return self.data\n",
    "    \n"
   ]
  },
  {
   "cell_type": "code",
   "execution_count": 49,
   "metadata": {
    "id": "IcywvAnxF_Zt"
   },
   "outputs": [],
   "source": [
    "class SLL:\n",
    "\n",
    "      # if data_list is provided, it must be a list of values, and they are pushed one-by-one onto SLL\n",
    "    def __init__(self,data_list = None):\n",
    "        if type(data_list) == list:\n",
    "            self.data_list = data_list\n",
    "            self.head = Node(data_list[0])\n",
    "            # print(self.head.value())\n",
    "            for i in range(len(data_list)- 1):\n",
    "                self.push(data_list[i+1])\n",
    "            \n",
    "      # adds a Node with data to the front of SLL, assume data is not None\n",
    "    def push(self,data):\n",
    "        new_node = Node(data)\n",
    "        new_node.next = self.head\n",
    "        self.head = new_node\n",
    "        pass\n",
    "\n",
    "      # If SLL is empty, returns None.  Else returns the data of the first Node, and removes the Node.\n",
    "    def pop(self):\n",
    "        if self.head == None:\n",
    "            return None\n",
    "        else:\n",
    "            val = self.head.value()\n",
    "            self.head = self.head.next\n",
    "            return val\n",
    "\n",
    "      # returns the data from the first Node, makes the first Node \"current\", else None if SLL is empty\n",
    "    def getFirst(self):\n",
    "        if self.head == None:\n",
    "            return None\n",
    "        else:\n",
    "            self.current = self.head\n",
    "            return self.head.value()\n",
    "\n",
    "      # moves internally to the Node after \"current\" (if possible), and returns its data, else None\n",
    "      #  cannot be used after push() or pop() calls, only after getFirst() or getNext()\n",
    "    def getNext(self):\n",
    "        next_node = self.current.next\n",
    "        if next_node == None:\n",
    "            return None\n",
    "        else:\n",
    "            self.current = next_node\n",
    "            return next_node.value()\n",
    "\n",
    "      # returns number of Nodes in SLL\n",
    "    def length(self):\n",
    "        count = 1\n",
    "        current = self.head\n",
    "        while current.next != None:\n",
    "            count += 1\n",
    "            current = current.next\n",
    "        return count\n",
    "\n",
    "      # empties SLL, returns None\n",
    "    def clear(self):\n",
    "        self.head = Node(None)\n",
    "        return None"
   ]
  },
  {
   "cell_type": "markdown",
   "metadata": {
    "id": "KuizUx-n6rgz"
   },
   "source": []
  },
  {
   "cell_type": "code",
   "execution_count": 42,
   "metadata": {
    "id": "U7rflfpI6sZ6"
   },
   "outputs": [
    {
     "name": "stdout",
     "output_type": "stream",
     "text": [
      "Success!\n"
     ]
    }
   ],
   "source": [
    "# Test...\n",
    "\n",
    "input = [4,7,2,2,1,8]\n",
    "a = SLL(input)\n",
    "\n",
    "def forward(a):\n",
    "  # use getFirst() and getNext() to acquire the list\n",
    "    fwd = []\n",
    "    d = a.getFirst()\n",
    "    if d:\n",
    "        fwd.append(d)\n",
    "    d = a.getNext()\n",
    "    while d:\n",
    "        fwd.append(d)\n",
    "        d = a.getNext()\n",
    "    return fwd\n",
    "\n",
    "def back(a):\n",
    "  # use pop() to acquire the list\n",
    "    bk = []\n",
    "    d = a.pop()\n",
    "    while d:\n",
    "        bk.append(d)\n",
    "        d = a.pop()\n",
    "    return bk \n",
    "\n",
    "# Make sure that both lists are the same, and they are the reverse of the input list\n",
    "fwd = forward(a)\n",
    "bk = back(a)\n",
    "if fwd == bk and fwd == input[::-1]:\n",
    "    print('Success!')\n",
    "else:\n",
    "    print('Nope.  A problem...')\n"
   ]
  },
  {
   "cell_type": "code",
   "execution_count": null,
   "metadata": {},
   "outputs": [],
   "source": []
  },
  {
   "cell_type": "code",
   "execution_count": null,
   "metadata": {},
   "outputs": [],
   "source": []
  }
 ],
 "metadata": {
  "colab": {
   "collapsed_sections": [],
   "name": "Single-linked list.ipynb",
   "provenance": []
  },
  "kernelspec": {
   "display_name": "Python 3",
   "language": "python",
   "name": "python3"
  },
  "language_info": {
   "codemirror_mode": {
    "name": "ipython",
    "version": 3
   },
   "file_extension": ".py",
   "mimetype": "text/x-python",
   "name": "python",
   "nbconvert_exporter": "python",
   "pygments_lexer": "ipython3",
   "version": "3.7.6"
  }
 },
 "nbformat": 4,
 "nbformat_minor": 1
}
